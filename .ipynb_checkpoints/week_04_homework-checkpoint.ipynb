{
 "cells": [
  {
   "cell_type": "markdown",
   "metadata": {},
   "source": [
    "### Heroes Of Pymoli Data Analysis\n",
    "\n",
    "-----"
   ]
  },
  {
   "cell_type": "markdown",
   "metadata": {},
   "source": [
    "### Note\n",
    "* Instructions have been included for each segment. You do not have to follow them exactly, but they are included to help you think through the steps."
   ]
  },
  {
   "cell_type": "code",
   "execution_count": 11,
   "metadata": {},
   "outputs": [],
   "source": [
    "# Dependencies and Setup\n",
    "import pandas as pd\n",
    "import numpy as np\n",
    "\n",
    "# File to Load (Remember to Change These)\n",
    "file_to_load = \"Resources/purchase_data.csv\"\n",
    "\n",
    "# Read Purchasing File and store into Pandas data frame\n",
    "purchase_data = pd.read_csv(file_to_load)\n"
   ]
  },
  {
   "cell_type": "markdown",
   "metadata": {},
   "source": [
    "## Player Count"
   ]
  },
  {
   "cell_type": "markdown",
   "metadata": {},
   "source": [
    "* Display the total number of players\n"
   ]
  },
  {
   "cell_type": "code",
   "execution_count": 12,
   "metadata": {},
   "outputs": [
    {
     "data": {
      "text/html": [
       "<div>\n",
       "<style scoped>\n",
       "    .dataframe tbody tr th:only-of-type {\n",
       "        vertical-align: middle;\n",
       "    }\n",
       "\n",
       "    .dataframe tbody tr th {\n",
       "        vertical-align: top;\n",
       "    }\n",
       "\n",
       "    .dataframe thead th {\n",
       "        text-align: right;\n",
       "    }\n",
       "</style>\n",
       "<table border=\"1\" class=\"dataframe\">\n",
       "  <thead>\n",
       "    <tr style=\"text-align: right;\">\n",
       "      <th></th>\n",
       "      <th>Total Players</th>\n",
       "    </tr>\n",
       "  </thead>\n",
       "  <tbody>\n",
       "    <tr>\n",
       "      <th>0</th>\n",
       "      <td>780</td>\n",
       "    </tr>\n",
       "  </tbody>\n",
       "</table>\n",
       "</div>"
      ],
      "text/plain": [
       "   Total Players\n",
       "0            780"
      ]
     },
     "execution_count": 12,
     "metadata": {},
     "output_type": "execute_result"
    }
   ],
   "source": [
    "my_list = [{\"Total Players\": purchase_data[\"SN\"].count()}]\n",
    "new_fr = pd.DataFrame(my_list)\n",
    "new_fr\n"
   ]
  },
  {
   "cell_type": "markdown",
   "metadata": {},
   "source": [
    "##Purchasing Analysis (Total)"
   ]
  },
  {
   "cell_type": "markdown",
   "metadata": {},
   "source": [
    "* Run basic calculations to obtain number of unique items, average price, etc.\n",
    "\n",
    "\n",
    "* Create a summary data frame to hold the results\n",
    "\n",
    "\n",
    "* Optional: give the displayed data cleaner formatting\n",
    "\n",
    "\n",
    "* Display the summary data frame\n"
   ]
  },
  {
   "cell_type": "code",
   "execution_count": 13,
   "metadata": {
    "scrolled": true
   },
   "outputs": [
    {
     "data": {
      "text/html": [
       "<div>\n",
       "<style scoped>\n",
       "    .dataframe tbody tr th:only-of-type {\n",
       "        vertical-align: middle;\n",
       "    }\n",
       "\n",
       "    .dataframe tbody tr th {\n",
       "        vertical-align: top;\n",
       "    }\n",
       "\n",
       "    .dataframe thead th {\n",
       "        text-align: right;\n",
       "    }\n",
       "</style>\n",
       "<table border=\"1\" class=\"dataframe\">\n",
       "  <thead>\n",
       "    <tr style=\"text-align: right;\">\n",
       "      <th></th>\n",
       "      <th>Number of Unique Items</th>\n",
       "      <th>Average Price</th>\n",
       "      <th>Number of Purchases</th>\n",
       "      <th>Total Revenue</th>\n",
       "    </tr>\n",
       "  </thead>\n",
       "  <tbody>\n",
       "    <tr>\n",
       "      <th>0</th>\n",
       "      <td>145</td>\n",
       "      <td>$3.05</td>\n",
       "      <td>780</td>\n",
       "      <td>$2,379.77</td>\n",
       "    </tr>\n",
       "  </tbody>\n",
       "</table>\n",
       "</div>"
      ],
      "text/plain": [
       "   Number of Unique Items Average Price  Number of Purchases Total Revenue\n",
       "0                     145         $3.05                  780     $2,379.77"
      ]
     },
     "execution_count": 13,
     "metadata": {},
     "output_type": "execute_result"
    }
   ],
   "source": [
    "tot_pur_list = [{\"Number of Unique Items\": purchase_data[\"Price\"].nunique(),\n",
    "                \"Average Price\": \"${:.2f}\".format(purchase_data[\"Price\"].mean()),\n",
    "                \"Number of Purchases\": purchase_data[\"Price\"].count(),\n",
    "                \"Total Revenue\": \"${:,.2f}\".format(purchase_data[\"Price\"].sum())}]\n",
    "summ_df = pd.DataFrame(tot_pur_list)\n",
    "summ_df"
   ]
  },
  {
   "cell_type": "markdown",
   "metadata": {},
   "source": [
    "## Gender Demographics"
   ]
  },
  {
   "cell_type": "markdown",
   "metadata": {},
   "source": [
    "* Percentage and Count of Male Players\n",
    "\n",
    "\n",
    "* Percentage and Count of Female Players\n",
    "\n",
    "\n",
    "* Percentage and Count of Other / Non-Disclosed\n",
    "\n",
    "\n"
   ]
  },
  {
   "cell_type": "code",
   "execution_count": 14,
   "metadata": {},
   "outputs": [
    {
     "data": {
      "text/html": [
       "<div>\n",
       "<style scoped>\n",
       "    .dataframe tbody tr th:only-of-type {\n",
       "        vertical-align: middle;\n",
       "    }\n",
       "\n",
       "    .dataframe tbody tr th {\n",
       "        vertical-align: top;\n",
       "    }\n",
       "\n",
       "    .dataframe thead th {\n",
       "        text-align: right;\n",
       "    }\n",
       "</style>\n",
       "<table border=\"1\" class=\"dataframe\">\n",
       "  <thead>\n",
       "    <tr style=\"text-align: right;\">\n",
       "      <th></th>\n",
       "      <th></th>\n",
       "      <th>Total Count</th>\n",
       "      <th>Percentage of Players</th>\n",
       "    </tr>\n",
       "  </thead>\n",
       "  <tbody>\n",
       "    <tr>\n",
       "      <th>0</th>\n",
       "      <td>Male</td>\n",
       "      <td>652</td>\n",
       "      <td>83.59%</td>\n",
       "    </tr>\n",
       "    <tr>\n",
       "      <th>1</th>\n",
       "      <td>Female</td>\n",
       "      <td>113</td>\n",
       "      <td>14.49%</td>\n",
       "    </tr>\n",
       "    <tr>\n",
       "      <th>2</th>\n",
       "      <td>Other / Non-Disclosed</td>\n",
       "      <td>15</td>\n",
       "      <td>1.92%</td>\n",
       "    </tr>\n",
       "  </tbody>\n",
       "</table>\n",
       "</div>"
      ],
      "text/plain": [
       "                          Total Count Percentage of Players\n",
       "0                   Male          652                83.59%\n",
       "1                 Female          113                14.49%\n",
       "2  Other / Non-Disclosed           15                 1.92%"
      ]
     },
     "execution_count": 14,
     "metadata": {},
     "output_type": "execute_result"
    }
   ],
   "source": [
    "gender_group = purchase_data.groupby(\"Gender\")\n",
    "male_count = len(gender_group.get_group(\"Male\").value_counts())\n",
    "female_count = len(gender_group.get_group(\"Female\").value_counts())\n",
    "other_count = len(gender_group.get_group(\"Other / Non-Disclosed\").value_counts())\n",
    "total_gender = purchase_data[\"SN\"].count()\n",
    "male_p = \"{:.2%}\".format(male_count/total_gender)\n",
    "female_p = \"{:.2%}\".format(female_count/total_gender)\n",
    "other_p = \"{:.2%}\".format(other_count/total_gender)\n",
    "\n",
    "new_df = pd.DataFrame({\"\":[\"Male\",\"Female\",\"Other / Non-Disclosed\"],\n",
    "                      \"Total Count\":[male_count,female_count,other_count],\n",
    "                      \"Percentage of Players\":[male_p,female_p,other_p]})\n",
    "new_df\n"
   ]
  },
  {
   "cell_type": "markdown",
   "metadata": {},
   "source": [
    "\n",
    "## Purchasing Analysis (Gender)"
   ]
  },
  {
   "cell_type": "markdown",
   "metadata": {},
   "source": [
    "* Run basic calculations to obtain purchase count, avg. purchase price, avg. purchase total per person etc. by gender\n",
    "\n",
    "\n",
    "\n",
    "\n",
    "* Create a summary data frame to hold the results\n",
    "\n",
    "\n",
    "* Optional: give the displayed data cleaner formatting\n",
    "\n",
    "\n",
    "* Display the summary data frame"
   ]
  },
  {
   "cell_type": "code",
   "execution_count": 15,
   "metadata": {},
   "outputs": [
    {
     "data": {
      "text/html": [
       "<div>\n",
       "<style scoped>\n",
       "    .dataframe tbody tr th:only-of-type {\n",
       "        vertical-align: middle;\n",
       "    }\n",
       "\n",
       "    .dataframe tbody tr th {\n",
       "        vertical-align: top;\n",
       "    }\n",
       "\n",
       "    .dataframe thead th {\n",
       "        text-align: right;\n",
       "    }\n",
       "</style>\n",
       "<table border=\"1\" class=\"dataframe\">\n",
       "  <thead>\n",
       "    <tr style=\"text-align: right;\">\n",
       "      <th></th>\n",
       "      <th>Gender</th>\n",
       "      <th>Purchase Count</th>\n",
       "      <th>Average Purchase Price</th>\n",
       "      <th>Total Purchase Value</th>\n",
       "      <th>Avg Total Purchase per Person</th>\n",
       "    </tr>\n",
       "  </thead>\n",
       "  <tbody>\n",
       "    <tr>\n",
       "      <th>0</th>\n",
       "      <td>Female</td>\n",
       "      <td>113</td>\n",
       "      <td>$3.20</td>\n",
       "      <td>$361.94</td>\n",
       "      <td>$4.47</td>\n",
       "    </tr>\n",
       "    <tr>\n",
       "      <th>1</th>\n",
       "      <td>Male</td>\n",
       "      <td>652</td>\n",
       "      <td>$3.02</td>\n",
       "      <td>$1,967.64</td>\n",
       "      <td>$4.07</td>\n",
       "    </tr>\n",
       "    <tr>\n",
       "      <th>2</th>\n",
       "      <td>Other / Non-Disclosed</td>\n",
       "      <td>15</td>\n",
       "      <td>$3.35</td>\n",
       "      <td>$50.19</td>\n",
       "      <td>$4.56</td>\n",
       "    </tr>\n",
       "  </tbody>\n",
       "</table>\n",
       "</div>"
      ],
      "text/plain": [
       "                  Gender  Purchase Count Average Purchase Price  \\\n",
       "0                 Female             113                  $3.20   \n",
       "1                   Male             652                  $3.02   \n",
       "2  Other / Non-Disclosed              15                  $3.35   \n",
       "\n",
       "  Total Purchase Value Avg Total Purchase per Person  \n",
       "0              $361.94                         $4.47  \n",
       "1            $1,967.64                         $4.07  \n",
       "2               $50.19                         $4.56  "
      ]
     },
     "execution_count": 15,
     "metadata": {},
     "output_type": "execute_result"
    }
   ],
   "source": [
    "sub_df = purchase_data[[\"Gender\", \"Price\",\"SN\"]].copy()\n",
    "male_price = 0\n",
    "female_price = 0\n",
    "other_price = 0\n",
    "male_count = 0\n",
    "female_count = 0\n",
    "other_count = 0\n",
    "for ind in sub_df.index:\n",
    "    if sub_df[\"Gender\"][ind] == \"Male\":\n",
    "        male_price = male_price + sub_df[\"Price\"][ind]\n",
    "        male_count +=1\n",
    "    elif sub_df[\"Gender\"][ind] == \"Female\":\n",
    "        female_price = female_price + sub_df[\"Price\"][ind]\n",
    "        female_count +=1\n",
    "    else:\n",
    "        other_price = other_price + sub_df[\"Price\"][ind]\n",
    "        other_count +=1\n",
    "\n",
    "ave_male_pr = male_price/male_count\n",
    "ave_female_pr = female_price/female_count\n",
    "ave_other_pr = other_price/other_count\n",
    "\n",
    "gender_group = purchase_data.groupby(\"Gender\")\n",
    "male_count = len(gender_group.get_group(\"Male\").value_counts())\n",
    "female_count = len(gender_group.get_group(\"Female\").value_counts())\n",
    "other_count = len(gender_group.get_group(\"Other / Non-Disclosed\").value_counts())\n",
    "total_gender = sub_df[\"Price\"].count()\n",
    "\n",
    "sn_gender_sum = purchase_data.groupby(\"Gender\")[\"SN\"].nunique()\n",
    "\n",
    "\n",
    "pa_df = pd.DataFrame({\"Gender\":[\"Female\",\"Male\",\"Other / Non-Disclosed\"],\n",
    "                      \"Purchase Count\":[female_count,male_count,other_count],\n",
    "                      \"Average Purchase Price\":[\"${:.2f}\".format(ave_female_pr), \"${:.2f}\".format(ave_male_pr), \n",
    "                                                \"${:.2f}\".format(ave_other_pr)],\n",
    "                     \"Total Purchase Value\":[\"${:,.2f}\".format(female_price), \"${:,.2f}\".format(male_price), \n",
    "                                             \"${:,.2f}\".format(other_price)],\n",
    "                     \"Avg Total Purchase per Person\":[\"${:.2f}\".format(female_price/sn_gender_sum[\"Female\"]), \n",
    "                                                      \"${:.2f}\".format(male_price/sn_gender_sum[\"Male\"]),\n",
    "                                                      \"${:.2f}\".format(other_price/sn_gender_sum[\"Other / Non-Disclosed\"])]})\n",
    "pa_df\n"
   ]
  },
  {
   "cell_type": "markdown",
   "metadata": {},
   "source": [
    "## Age Demographics"
   ]
  },
  {
   "cell_type": "markdown",
   "metadata": {},
   "source": [
    "* Establish bins for ages\n",
    "\n",
    "\n",
    "* Categorize the existing players using the age bins. Hint: use pd.cut()\n",
    "\n",
    "\n",
    "* Calculate the numbers and percentages by age group\n",
    "\n",
    "\n",
    "* Create a summary data frame to hold the results\n",
    "\n",
    "\n",
    "* Optional: round the percentage column to two decimal points\n",
    "\n",
    "\n",
    "* Display Age Demographics Table\n"
   ]
  },
  {
   "cell_type": "code",
   "execution_count": 16,
   "metadata": {},
   "outputs": [
    {
     "data": {
      "text/html": [
       "<style type=\"text/css\">\n",
       "</style>\n",
       "<table id=\"T_7b4fe_\">\n",
       "  <thead>\n",
       "    <tr>\n",
       "      <th class=\"blank level0\" >&nbsp;</th>\n",
       "      <th class=\"col_heading level0 col0\" >Total Count</th>\n",
       "      <th class=\"col_heading level0 col1\" >Percentage of Players</th>\n",
       "    </tr>\n",
       "    <tr>\n",
       "      <th class=\"index_name level0\" >AgeGroup</th>\n",
       "      <th class=\"blank col0\" >&nbsp;</th>\n",
       "      <th class=\"blank col1\" >&nbsp;</th>\n",
       "    </tr>\n",
       "  </thead>\n",
       "  <tbody>\n",
       "    <tr>\n",
       "      <th id=\"T_7b4fe_level0_row0\" class=\"row_heading level0 row0\" ><10</th>\n",
       "      <td id=\"T_7b4fe_row0_col0\" class=\"data row0 col0\" >32</td>\n",
       "      <td id=\"T_7b4fe_row0_col1\" class=\"data row0 col1\" >4.10%</td>\n",
       "    </tr>\n",
       "    <tr>\n",
       "      <th id=\"T_7b4fe_level0_row1\" class=\"row_heading level0 row1\" >10-14</th>\n",
       "      <td id=\"T_7b4fe_row1_col0\" class=\"data row1 col0\" >19</td>\n",
       "      <td id=\"T_7b4fe_row1_col1\" class=\"data row1 col1\" >2.44%</td>\n",
       "    </tr>\n",
       "    <tr>\n",
       "      <th id=\"T_7b4fe_level0_row2\" class=\"row_heading level0 row2\" >15-19</th>\n",
       "      <td id=\"T_7b4fe_row2_col0\" class=\"data row2 col0\" >136</td>\n",
       "      <td id=\"T_7b4fe_row2_col1\" class=\"data row2 col1\" >17.44%</td>\n",
       "    </tr>\n",
       "    <tr>\n",
       "      <th id=\"T_7b4fe_level0_row3\" class=\"row_heading level0 row3\" >20-24</th>\n",
       "      <td id=\"T_7b4fe_row3_col0\" class=\"data row3 col0\" >365</td>\n",
       "      <td id=\"T_7b4fe_row3_col1\" class=\"data row3 col1\" >46.79%</td>\n",
       "    </tr>\n",
       "    <tr>\n",
       "      <th id=\"T_7b4fe_level0_row4\" class=\"row_heading level0 row4\" >25-29</th>\n",
       "      <td id=\"T_7b4fe_row4_col0\" class=\"data row4 col0\" >101</td>\n",
       "      <td id=\"T_7b4fe_row4_col1\" class=\"data row4 col1\" >12.95%</td>\n",
       "    </tr>\n",
       "  </tbody>\n",
       "</table>\n"
      ],
      "text/plain": [
       "<pandas.io.formats.style.Styler at 0x29389465d00>"
      ]
     },
     "execution_count": 16,
     "metadata": {},
     "output_type": "execute_result"
    }
   ],
   "source": [
    "age_df = purchase_data.copy()\n",
    "age_bins = [0,10,14,19,24,29,34,39,age_df[\"Age\"].max()]\n",
    "age_labels = [\"<10\",\"10-14\", \"15-19\", \"20-24\", \"25-29\", \"30-34\", \"35-39\",\"40+\"]\n",
    "age_df[\"AgeGroup\"] = pd.cut(age_df[\"Age\"], age_bins, labels=age_labels)\n",
    "age_group = age_df.groupby(\"AgeGroup\")\n",
    "total_count = age_df[\"AgeGroup\"].count()\n",
    "age_count = age_group[\"AgeGroup\"].count()\n",
    "age_perc = age_count/total_count\n",
    "#print(\"{:.2%}\".format(age_perc))\n",
    "age_new_df = pd.DataFrame({\"Total Count\":age_count,\n",
    "                      \"Percentage of Players\":age_perc})\n",
    "\n",
    "format_dict ={\"Percentage of Players\":\"{:.2%}\"}\n",
    "temp_age_df_ = age_new_df.head(5).style.format(format_dict)\n",
    "temp_age_df_\n"
   ]
  },
  {
   "cell_type": "markdown",
   "metadata": {},
   "source": [
    "## Purchasing Analysis (Age)"
   ]
  },
  {
   "cell_type": "markdown",
   "metadata": {},
   "source": [
    "* Bin the purchase_data data frame by age\n",
    "\n",
    "\n",
    "* Run basic calculations to obtain purchase count, avg. purchase price, avg. purchase total per person etc. in the table below\n",
    "\n",
    "\n",
    "* Create a summary data frame to hold the results\n",
    "\n",
    "\n",
    "* Optional: give the displayed data cleaner formatting\n",
    "\n",
    "\n",
    "* Display the summary data frame"
   ]
  },
  {
   "cell_type": "code",
   "execution_count": 17,
   "metadata": {},
   "outputs": [
    {
     "data": {
      "text/html": [
       "<style type=\"text/css\">\n",
       "</style>\n",
       "<table id=\"T_00ca2_\">\n",
       "  <thead>\n",
       "    <tr>\n",
       "      <th class=\"blank level0\" >&nbsp;</th>\n",
       "      <th class=\"col_heading level0 col0\" >Purchase Count</th>\n",
       "      <th class=\"col_heading level0 col1\" >Average Purchase Price</th>\n",
       "      <th class=\"col_heading level0 col2\" >Total Purchase Value</th>\n",
       "      <th class=\"col_heading level0 col3\" >Avg Total Purchase per Person</th>\n",
       "    </tr>\n",
       "    <tr>\n",
       "      <th class=\"index_name level0\" >AgeGroup</th>\n",
       "      <th class=\"blank col0\" >&nbsp;</th>\n",
       "      <th class=\"blank col1\" >&nbsp;</th>\n",
       "      <th class=\"blank col2\" >&nbsp;</th>\n",
       "      <th class=\"blank col3\" >&nbsp;</th>\n",
       "    </tr>\n",
       "  </thead>\n",
       "  <tbody>\n",
       "    <tr>\n",
       "      <th id=\"T_00ca2_level0_row0\" class=\"row_heading level0 row0\" ><10</th>\n",
       "      <td id=\"T_00ca2_row0_col0\" class=\"data row0 col0\" >32</td>\n",
       "      <td id=\"T_00ca2_row0_col1\" class=\"data row0 col1\" >$3.41</td>\n",
       "      <td id=\"T_00ca2_row0_col2\" class=\"data row0 col2\" >$108.96</td>\n",
       "      <td id=\"T_00ca2_row0_col3\" class=\"data row0 col3\" >$4.54</td>\n",
       "    </tr>\n",
       "    <tr>\n",
       "      <th id=\"T_00ca2_level0_row1\" class=\"row_heading level0 row1\" >10-14</th>\n",
       "      <td id=\"T_00ca2_row1_col0\" class=\"data row1 col0\" >19</td>\n",
       "      <td id=\"T_00ca2_row1_col1\" class=\"data row1 col1\" >$2.68</td>\n",
       "      <td id=\"T_00ca2_row1_col2\" class=\"data row1 col2\" >$50.95</td>\n",
       "      <td id=\"T_00ca2_row1_col3\" class=\"data row1 col3\" >$3.40</td>\n",
       "    </tr>\n",
       "    <tr>\n",
       "      <th id=\"T_00ca2_level0_row2\" class=\"row_heading level0 row2\" >15-19</th>\n",
       "      <td id=\"T_00ca2_row2_col0\" class=\"data row2 col0\" >136</td>\n",
       "      <td id=\"T_00ca2_row2_col1\" class=\"data row2 col1\" >$3.04</td>\n",
       "      <td id=\"T_00ca2_row2_col2\" class=\"data row2 col2\" >$412.89</td>\n",
       "      <td id=\"T_00ca2_row2_col3\" class=\"data row2 col3\" >$3.86</td>\n",
       "    </tr>\n",
       "    <tr>\n",
       "      <th id=\"T_00ca2_level0_row3\" class=\"row_heading level0 row3\" >20-24</th>\n",
       "      <td id=\"T_00ca2_row3_col0\" class=\"data row3 col0\" >365</td>\n",
       "      <td id=\"T_00ca2_row3_col1\" class=\"data row3 col1\" >$3.05</td>\n",
       "      <td id=\"T_00ca2_row3_col2\" class=\"data row3 col2\" >$1,114.06</td>\n",
       "      <td id=\"T_00ca2_row3_col3\" class=\"data row3 col3\" >$4.32</td>\n",
       "    </tr>\n",
       "    <tr>\n",
       "      <th id=\"T_00ca2_level0_row4\" class=\"row_heading level0 row4\" >25-29</th>\n",
       "      <td id=\"T_00ca2_row4_col0\" class=\"data row4 col0\" >101</td>\n",
       "      <td id=\"T_00ca2_row4_col1\" class=\"data row4 col1\" >$2.90</td>\n",
       "      <td id=\"T_00ca2_row4_col2\" class=\"data row4 col2\" >$293.00</td>\n",
       "      <td id=\"T_00ca2_row4_col3\" class=\"data row4 col3\" >$3.81</td>\n",
       "    </tr>\n",
       "    <tr>\n",
       "      <th id=\"T_00ca2_level0_row5\" class=\"row_heading level0 row5\" >30-34</th>\n",
       "      <td id=\"T_00ca2_row5_col0\" class=\"data row5 col0\" >73</td>\n",
       "      <td id=\"T_00ca2_row5_col1\" class=\"data row5 col1\" >$2.93</td>\n",
       "      <td id=\"T_00ca2_row5_col2\" class=\"data row5 col2\" >$214.00</td>\n",
       "      <td id=\"T_00ca2_row5_col3\" class=\"data row5 col3\" >$4.12</td>\n",
       "    </tr>\n",
       "    <tr>\n",
       "      <th id=\"T_00ca2_level0_row6\" class=\"row_heading level0 row6\" >35-39</th>\n",
       "      <td id=\"T_00ca2_row6_col0\" class=\"data row6 col0\" >41</td>\n",
       "      <td id=\"T_00ca2_row6_col1\" class=\"data row6 col1\" >$3.60</td>\n",
       "      <td id=\"T_00ca2_row6_col2\" class=\"data row6 col2\" >$147.67</td>\n",
       "      <td id=\"T_00ca2_row6_col3\" class=\"data row6 col3\" >$4.76</td>\n",
       "    </tr>\n",
       "    <tr>\n",
       "      <th id=\"T_00ca2_level0_row7\" class=\"row_heading level0 row7\" >40+</th>\n",
       "      <td id=\"T_00ca2_row7_col0\" class=\"data row7 col0\" >13</td>\n",
       "      <td id=\"T_00ca2_row7_col1\" class=\"data row7 col1\" >$2.94</td>\n",
       "      <td id=\"T_00ca2_row7_col2\" class=\"data row7 col2\" >$38.24</td>\n",
       "      <td id=\"T_00ca2_row7_col3\" class=\"data row7 col3\" >$3.19</td>\n",
       "    </tr>\n",
       "  </tbody>\n",
       "</table>\n"
      ],
      "text/plain": [
       "<pandas.io.formats.style.Styler at 0x2938d94e850>"
      ]
     },
     "execution_count": 17,
     "metadata": {},
     "output_type": "execute_result"
    }
   ],
   "source": [
    "age_df = purchase_data.copy()\n",
    "age_bins = [0,10,14,19,24,29,34,39,age_df[\"Age\"].max()]\n",
    "age_labels = [\"<10\",\"10-14\", \"15-19\", \"20-24\", \"25-29\", \"30-34\", \"35-39\",\"40+\"]\n",
    "age_df[\"AgeGroup\"] = pd.cut(age_df[\"Age\"], age_bins, labels=age_labels)\n",
    "age_group_df = age_df.groupby(\"AgeGroup\")\n",
    "pur_count = age_group_df[\"Price\"].count()\n",
    "ave_pur_price = age_group_df[\"Price\"].mean()\n",
    "tot_pur = age_group_df[\"Price\"].sum()\n",
    "\n",
    "age_unique = age_df.groupby(\"AgeGroup\")[\"SN\"].nunique()\n",
    "per_person = tot_pur/age_unique\n",
    "\n",
    "pur_df = pd.DataFrame({\"Purchase Count\":pur_count,\n",
    "                      \"Average Purchase Price\":ave_pur_price,\n",
    "                       \"Total Purchase Value\":tot_pur,\n",
    "                       \"Avg Total Purchase per Person\":per_person})\n",
    "\n",
    "format_dict = {\"Average Purchase Price\":\"${0:.2f}\", \"Total Purchase Value\":\"${0:,.2f}\",\"Avg Total Purchase per Person\":\"${0:.2f}\"}\n",
    "temp_pur_df_ = pur_df.style.format(format_dict)\n",
    "temp_pur_df_\n"
   ]
  },
  {
   "cell_type": "markdown",
   "metadata": {},
   "source": [
    "## Top Spenders"
   ]
  },
  {
   "cell_type": "markdown",
   "metadata": {},
   "source": [
    "* Run basic calculations to obtain the results in the table below\n",
    "\n",
    "\n",
    "* Create a summary data frame to hold the results\n",
    "\n",
    "\n",
    "* Sort the total purchase value column in descending order\n",
    "\n",
    "\n",
    "* Optional: give the displayed data cleaner formatting\n",
    "\n",
    "\n",
    "* Display a preview of the summary data frame\n",
    "\n"
   ]
  },
  {
   "cell_type": "code",
   "execution_count": 18,
   "metadata": {},
   "outputs": [
    {
     "data": {
      "text/html": [
       "<style type=\"text/css\">\n",
       "</style>\n",
       "<table id=\"T_a7ea6_\">\n",
       "  <thead>\n",
       "    <tr>\n",
       "      <th class=\"blank level0\" >&nbsp;</th>\n",
       "      <th class=\"col_heading level0 col0\" >Purchase Count</th>\n",
       "      <th class=\"col_heading level0 col1\" >Average Purchase Price</th>\n",
       "      <th class=\"col_heading level0 col2\" >Total Purchase Value</th>\n",
       "    </tr>\n",
       "    <tr>\n",
       "      <th class=\"index_name level0\" >SN</th>\n",
       "      <th class=\"blank col0\" >&nbsp;</th>\n",
       "      <th class=\"blank col1\" >&nbsp;</th>\n",
       "      <th class=\"blank col2\" >&nbsp;</th>\n",
       "    </tr>\n",
       "  </thead>\n",
       "  <tbody>\n",
       "    <tr>\n",
       "      <th id=\"T_a7ea6_level0_row0\" class=\"row_heading level0 row0\" >Lisosia93</th>\n",
       "      <td id=\"T_a7ea6_row0_col0\" class=\"data row0 col0\" >5</td>\n",
       "      <td id=\"T_a7ea6_row0_col1\" class=\"data row0 col1\" >$3.79</td>\n",
       "      <td id=\"T_a7ea6_row0_col2\" class=\"data row0 col2\" >$18.96</td>\n",
       "    </tr>\n",
       "    <tr>\n",
       "      <th id=\"T_a7ea6_level0_row1\" class=\"row_heading level0 row1\" >Iral74</th>\n",
       "      <td id=\"T_a7ea6_row1_col0\" class=\"data row1 col0\" >4</td>\n",
       "      <td id=\"T_a7ea6_row1_col1\" class=\"data row1 col1\" >$3.40</td>\n",
       "      <td id=\"T_a7ea6_row1_col2\" class=\"data row1 col2\" >$13.62</td>\n",
       "    </tr>\n",
       "    <tr>\n",
       "      <th id=\"T_a7ea6_level0_row2\" class=\"row_heading level0 row2\" >Idastidru52</th>\n",
       "      <td id=\"T_a7ea6_row2_col0\" class=\"data row2 col0\" >4</td>\n",
       "      <td id=\"T_a7ea6_row2_col1\" class=\"data row2 col1\" >$3.86</td>\n",
       "      <td id=\"T_a7ea6_row2_col2\" class=\"data row2 col2\" >$15.45</td>\n",
       "    </tr>\n",
       "    <tr>\n",
       "      <th id=\"T_a7ea6_level0_row3\" class=\"row_heading level0 row3\" >Asur53</th>\n",
       "      <td id=\"T_a7ea6_row3_col0\" class=\"data row3 col0\" >3</td>\n",
       "      <td id=\"T_a7ea6_row3_col1\" class=\"data row3 col1\" >$2.48</td>\n",
       "      <td id=\"T_a7ea6_row3_col2\" class=\"data row3 col2\" >$7.44</td>\n",
       "    </tr>\n",
       "    <tr>\n",
       "      <th id=\"T_a7ea6_level0_row4\" class=\"row_heading level0 row4\" >Inguron55</th>\n",
       "      <td id=\"T_a7ea6_row4_col0\" class=\"data row4 col0\" >3</td>\n",
       "      <td id=\"T_a7ea6_row4_col1\" class=\"data row4 col1\" >$3.70</td>\n",
       "      <td id=\"T_a7ea6_row4_col2\" class=\"data row4 col2\" >$11.11</td>\n",
       "    </tr>\n",
       "  </tbody>\n",
       "</table>\n"
      ],
      "text/plain": [
       "<pandas.io.formats.style.Styler at 0x2938948b880>"
      ]
     },
     "execution_count": 18,
     "metadata": {},
     "output_type": "execute_result"
    }
   ],
   "source": [
    "sn_group_df = purchase_data.groupby(\"SN\")\n",
    "sn_count = sn_group_df[\"Purchase ID\"].count()\n",
    "ave_sn_price = sn_group_df[\"Price\"].mean()\n",
    "tot_sn = sn_group_df[\"Price\"].sum()\n",
    "\n",
    "sn_df = pd.DataFrame({\"Purchase Count\":sn_count,\n",
    "                      \"Average Purchase Price\":ave_sn_price.round(2),\n",
    "                      \"Total Purchase Value\":tot_sn})\n",
    "sn_df.sort_values(by=[\"Purchase Count\"], ascending=False, inplace=True)\n",
    "format_dict ={\"Average Purchase Price\":\"${0:,.2f}\",\"Total Purchase Value\":\"${0:,.2f}\"}\n",
    "\n",
    "\n",
    "sn_df_ = sn_df.head(5).style.format(format_dict)\n",
    "sn_df_\n"
   ]
  },
  {
   "cell_type": "markdown",
   "metadata": {},
   "source": [
    "## Most Popular Items"
   ]
  },
  {
   "cell_type": "markdown",
   "metadata": {},
   "source": [
    "* Retrieve the Item ID, Item Name, and Item Price columns\n",
    "\n",
    "\n",
    "* Group by Item ID and Item Name. Perform calculations to obtain purchase count, item price, and total purchase value\n",
    "\n",
    "\n",
    "* Create a summary data frame to hold the results\n",
    "\n",
    "\n",
    "* Sort the purchase count column in descending order\n",
    "\n",
    "\n",
    "* Optional: give the displayed data cleaner formatting\n",
    "\n",
    "\n",
    "* Display a preview of the summary data frame\n",
    "\n"
   ]
  },
  {
   "cell_type": "code",
   "execution_count": 19,
   "metadata": {},
   "outputs": [
    {
     "data": {
      "text/html": [
       "<style type=\"text/css\">\n",
       "</style>\n",
       "<table id=\"T_6cd7f_\">\n",
       "  <thead>\n",
       "    <tr>\n",
       "      <th class=\"blank\" >&nbsp;</th>\n",
       "      <th class=\"blank level0\" >&nbsp;</th>\n",
       "      <th class=\"col_heading level0 col0\" >Purchase Count</th>\n",
       "      <th class=\"col_heading level0 col1\" >Item Price</th>\n",
       "      <th class=\"col_heading level0 col2\" >Total Purchase Value</th>\n",
       "    </tr>\n",
       "    <tr>\n",
       "      <th class=\"index_name level0\" >Item ID</th>\n",
       "      <th class=\"index_name level1\" >Item Name</th>\n",
       "      <th class=\"blank col0\" >&nbsp;</th>\n",
       "      <th class=\"blank col1\" >&nbsp;</th>\n",
       "      <th class=\"blank col2\" >&nbsp;</th>\n",
       "    </tr>\n",
       "  </thead>\n",
       "  <tbody>\n",
       "    <tr>\n",
       "      <th id=\"T_6cd7f_level0_row0\" class=\"row_heading level0 row0\" >178</th>\n",
       "      <th id=\"T_6cd7f_level1_row0\" class=\"row_heading level1 row0\" >Oathbreaker, Last Hope of the Breaking Storm</th>\n",
       "      <td id=\"T_6cd7f_row0_col0\" class=\"data row0 col0\" >12</td>\n",
       "      <td id=\"T_6cd7f_row0_col1\" class=\"data row0 col1\" >$4.23</td>\n",
       "      <td id=\"T_6cd7f_row0_col2\" class=\"data row0 col2\" >$50.76</td>\n",
       "    </tr>\n",
       "    <tr>\n",
       "      <th id=\"T_6cd7f_level0_row1\" class=\"row_heading level0 row1\" >145</th>\n",
       "      <th id=\"T_6cd7f_level1_row1\" class=\"row_heading level1 row1\" >Fiery Glass Crusader</th>\n",
       "      <td id=\"T_6cd7f_row1_col0\" class=\"data row1 col0\" >9</td>\n",
       "      <td id=\"T_6cd7f_row1_col1\" class=\"data row1 col1\" >$4.58</td>\n",
       "      <td id=\"T_6cd7f_row1_col2\" class=\"data row1 col2\" >$41.22</td>\n",
       "    </tr>\n",
       "    <tr>\n",
       "      <th id=\"T_6cd7f_level0_row2\" class=\"row_heading level0 row2\" >108</th>\n",
       "      <th id=\"T_6cd7f_level1_row2\" class=\"row_heading level1 row2\" >Extraction, Quickblade Of Trembling Hands</th>\n",
       "      <td id=\"T_6cd7f_row2_col0\" class=\"data row2 col0\" >9</td>\n",
       "      <td id=\"T_6cd7f_row2_col1\" class=\"data row2 col1\" >$3.53</td>\n",
       "      <td id=\"T_6cd7f_row2_col2\" class=\"data row2 col2\" >$31.77</td>\n",
       "    </tr>\n",
       "    <tr>\n",
       "      <th id=\"T_6cd7f_level0_row3\" class=\"row_heading level0 row3\" >82</th>\n",
       "      <th id=\"T_6cd7f_level1_row3\" class=\"row_heading level1 row3\" >Nirvana</th>\n",
       "      <td id=\"T_6cd7f_row3_col0\" class=\"data row3 col0\" >9</td>\n",
       "      <td id=\"T_6cd7f_row3_col1\" class=\"data row3 col1\" >$4.90</td>\n",
       "      <td id=\"T_6cd7f_row3_col2\" class=\"data row3 col2\" >$44.10</td>\n",
       "    </tr>\n",
       "    <tr>\n",
       "      <th id=\"T_6cd7f_level0_row4\" class=\"row_heading level0 row4\" >19</th>\n",
       "      <th id=\"T_6cd7f_level1_row4\" class=\"row_heading level1 row4\" >Pursuit, Cudgel of Necromancy</th>\n",
       "      <td id=\"T_6cd7f_row4_col0\" class=\"data row4 col0\" >8</td>\n",
       "      <td id=\"T_6cd7f_row4_col1\" class=\"data row4 col1\" >$1.02</td>\n",
       "      <td id=\"T_6cd7f_row4_col2\" class=\"data row4 col2\" >$8.16</td>\n",
       "    </tr>\n",
       "  </tbody>\n",
       "</table>\n"
      ],
      "text/plain": [
       "<pandas.io.formats.style.Styler at 0x293894a0b50>"
      ]
     },
     "execution_count": 19,
     "metadata": {},
     "output_type": "execute_result"
    }
   ],
   "source": [
    "selected_columns = purchase_data[[\"Item ID\", \"Item Name\", \"Price\"]]\n",
    "pop_df = selected_columns.copy()\n",
    "\n",
    "pop_group_df = pop_df.groupby([\"Item ID\", \"Item Name\"])\n",
    "\n",
    "pop_count = pop_group_df[\"Item ID\"].count()\n",
    "tot_pop_price = pop_group_df[\"Price\"].sum()\n",
    "use_price = pop_group_df[\"Price\"].unique()\n",
    "use_price_new = use_price.apply(lambda x: x[0])\n",
    "temp_pop_df = pd.DataFrame({\"Purchase Count\":pop_count,\n",
    "                            \"Item Price\":use_price_new,\n",
    "                            \"Total Purchase Value\":tot_pop_price})\n",
    "\n",
    "temp_pop_df.sort_values(by=[\"Purchase Count\"], ascending=False, inplace=True)\n",
    "format_dict ={\"Item Price\":\"${0:,.2f}\",\"Total Purchase Value\":\"${0:,.2f}\"}\n",
    "\n",
    "temp_pop_df_ = temp_pop_df.head(5).style.format(format_dict)\n",
    "temp_pop_df_\n"
   ]
  },
  {
   "cell_type": "markdown",
   "metadata": {},
   "source": [
    "## Most Profitable Items"
   ]
  },
  {
   "cell_type": "markdown",
   "metadata": {},
   "source": [
    "* Sort the above table by total purchase value in descending order\n",
    "\n",
    "\n",
    "* Optional: give the displayed data cleaner formatting\n",
    "\n",
    "\n",
    "* Display a preview of the data frame\n",
    "\n"
   ]
  },
  {
   "cell_type": "code",
   "execution_count": 20,
   "metadata": {
    "scrolled": true
   },
   "outputs": [
    {
     "data": {
      "text/html": [
       "<style type=\"text/css\">\n",
       "</style>\n",
       "<table id=\"T_f2444_\">\n",
       "  <thead>\n",
       "    <tr>\n",
       "      <th class=\"blank\" >&nbsp;</th>\n",
       "      <th class=\"blank level0\" >&nbsp;</th>\n",
       "      <th class=\"col_heading level0 col0\" >Purchase Count</th>\n",
       "      <th class=\"col_heading level0 col1\" >Item Price</th>\n",
       "      <th class=\"col_heading level0 col2\" >Total Purchase Value</th>\n",
       "    </tr>\n",
       "    <tr>\n",
       "      <th class=\"index_name level0\" >Item ID</th>\n",
       "      <th class=\"index_name level1\" >Item Name</th>\n",
       "      <th class=\"blank col0\" >&nbsp;</th>\n",
       "      <th class=\"blank col1\" >&nbsp;</th>\n",
       "      <th class=\"blank col2\" >&nbsp;</th>\n",
       "    </tr>\n",
       "  </thead>\n",
       "  <tbody>\n",
       "    <tr>\n",
       "      <th id=\"T_f2444_level0_row0\" class=\"row_heading level0 row0\" >178</th>\n",
       "      <th id=\"T_f2444_level1_row0\" class=\"row_heading level1 row0\" >Oathbreaker, Last Hope of the Breaking Storm</th>\n",
       "      <td id=\"T_f2444_row0_col0\" class=\"data row0 col0\" >12</td>\n",
       "      <td id=\"T_f2444_row0_col1\" class=\"data row0 col1\" >$4.23</td>\n",
       "      <td id=\"T_f2444_row0_col2\" class=\"data row0 col2\" >$50.76</td>\n",
       "    </tr>\n",
       "    <tr>\n",
       "      <th id=\"T_f2444_level0_row1\" class=\"row_heading level0 row1\" >82</th>\n",
       "      <th id=\"T_f2444_level1_row1\" class=\"row_heading level1 row1\" >Nirvana</th>\n",
       "      <td id=\"T_f2444_row1_col0\" class=\"data row1 col0\" >9</td>\n",
       "      <td id=\"T_f2444_row1_col1\" class=\"data row1 col1\" >$4.90</td>\n",
       "      <td id=\"T_f2444_row1_col2\" class=\"data row1 col2\" >$44.10</td>\n",
       "    </tr>\n",
       "    <tr>\n",
       "      <th id=\"T_f2444_level0_row2\" class=\"row_heading level0 row2\" >145</th>\n",
       "      <th id=\"T_f2444_level1_row2\" class=\"row_heading level1 row2\" >Fiery Glass Crusader</th>\n",
       "      <td id=\"T_f2444_row2_col0\" class=\"data row2 col0\" >9</td>\n",
       "      <td id=\"T_f2444_row2_col1\" class=\"data row2 col1\" >$4.58</td>\n",
       "      <td id=\"T_f2444_row2_col2\" class=\"data row2 col2\" >$41.22</td>\n",
       "    </tr>\n",
       "    <tr>\n",
       "      <th id=\"T_f2444_level0_row3\" class=\"row_heading level0 row3\" >92</th>\n",
       "      <th id=\"T_f2444_level1_row3\" class=\"row_heading level1 row3\" >Final Critic</th>\n",
       "      <td id=\"T_f2444_row3_col0\" class=\"data row3 col0\" >8</td>\n",
       "      <td id=\"T_f2444_row3_col1\" class=\"data row3 col1\" >$4.88</td>\n",
       "      <td id=\"T_f2444_row3_col2\" class=\"data row3 col2\" >$39.04</td>\n",
       "    </tr>\n",
       "    <tr>\n",
       "      <th id=\"T_f2444_level0_row4\" class=\"row_heading level0 row4\" >103</th>\n",
       "      <th id=\"T_f2444_level1_row4\" class=\"row_heading level1 row4\" >Singed Scalpel</th>\n",
       "      <td id=\"T_f2444_row4_col0\" class=\"data row4 col0\" >8</td>\n",
       "      <td id=\"T_f2444_row4_col1\" class=\"data row4 col1\" >$4.35</td>\n",
       "      <td id=\"T_f2444_row4_col2\" class=\"data row4 col2\" >$34.80</td>\n",
       "    </tr>\n",
       "  </tbody>\n",
       "</table>\n"
      ],
      "text/plain": [
       "<pandas.io.formats.style.Styler at 0x293f1220040>"
      ]
     },
     "execution_count": 20,
     "metadata": {},
     "output_type": "execute_result"
    }
   ],
   "source": [
    "temp_pop_df.sort_values(by=[\"Total Purchase Value\"], ascending=False, inplace=True)\n",
    "format_dict ={\"Item Price\":\"${0:,.2f}\",\"Total Purchase Value\":\"${0:,.2f}\"}\n",
    "#format_dict ={\"Total Purchase Value\":\"${0:,.2f}\"}\n",
    "\n",
    "temp_pop_df_ = temp_pop_df.head(5).style.format(format_dict)\n",
    "temp_pop_df_"
   ]
  },
  {
   "cell_type": "markdown",
   "metadata": {},
   "source": [
    "The data indicates that more purchases were done by males, the age group of 20-24 purchases the most often, and the Oathbreaker, Last Hope of the Breaking Storm item is the one purchased most often."
   ]
  },
  {
   "attachments": {
    "Data-Manip-Pandas.PNG": {
     "image/png": "[encoded data removed]"
    }
   },
   "cell_type": "markdown",
   "metadata": {},
   "source": [
    "![Data-Manip-Pandas.PNG](attachment:Data-Manip-Pandas.PNG)"
   ]
  },
  {
   "cell_type": "code",
   "execution_count": 21,
   "metadata": {},
   "outputs": [
    {
     "data": {
      "image/png": "[encoded data removed]",
      "text/plain": [
       "<Figure size 432x288 with 1 Axes>"
      ]
     },
     "metadata": {
      "needs_background": "light"
     },
     "output_type": "display_data"
    }
   ],
   "source": [
    "import matplotlib.pyplot as plt\n",
    "temp_pop_df[\"Total Purchase Value\"].hist()\n",
    "plt.show()"
   ]
  },
  {
   "cell_type": "code",
   "execution_count": null,
   "metadata": {},
   "outputs": [],
   "source": []
  }
 ],
 "metadata": {
  "anaconda-cloud": {},
  "kernel_info": {
   "name": "python3"
  },
  "kernelspec": {
   "display_name": "Python 3 (ipykernel)",
   "language": "python",
   "name": "python3"
  },
  "language_info": {
   "codemirror_mode": {
    "name": "ipython",
    "version": 3
   },
   "file_extension": ".py",
   "mimetype": "text/x-python",
   "name": "python",
   "nbconvert_exporter": "python",
   "pygments_lexer": "ipython3",
   "version": "3.9.7"
  },
  "nteract": {
   "version": "0.2.0"
  }
 },
 "nbformat": 4,
 "nbformat_minor": 4
}
